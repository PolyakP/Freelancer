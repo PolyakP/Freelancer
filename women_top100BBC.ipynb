{
 "cells": [
  {
   "cell_type": "code",
   "execution_count": 2,
   "metadata": {},
   "outputs": [],
   "source": [
    "#import pandas as pd\n",
    "#import numpy as np\n",
    "import os\n",
    "import requests # pip install requests\n",
    "from bs4 import BeautifulSoup as bs # pip install beautifulsoup4"
   ]
  },
  {
   "cell_type": "code",
   "execution_count": 3,
   "metadata": {},
   "outputs": [
    {
     "data": {
      "text/plain": [
       "'D:\\\\Py\\\\black'"
      ]
     },
     "execution_count": 3,
     "metadata": {},
     "output_type": "execute_result"
    }
   ],
   "source": [
    "os.chdir(\"D:/Py/black\")\n",
    "os.getcwd()"
   ]
  },
  {
   "cell_type": "code",
   "execution_count": 4,
   "metadata": {},
   "outputs": [],
   "source": [
    "r = requests.get('https://www.bbc.com/news/world-55042935')\n",
    "# Convert to a beautiful soup object\n",
    "soup = bs(r.content)"
   ]
  },
  {
   "cell_type": "code",
   "execution_count": 5,
   "metadata": {},
   "outputs": [],
   "source": [
    "name = soup.find_all(\"h4\")\n",
    "names = [n.string for n in name]\n",
    "description = soup.find_all(\"p\", class_=\"first_paragraph\")\n",
    "descriptions = [d.string for d in description]"
   ]
  },
  {
   "cell_type": "code",
   "execution_count": 41,
   "metadata": {},
   "outputs": [],
   "source": [
    "location = soup.find_all(\"span\", class_=\"card__header__strapline__location\")[::2] # select only odd's index (it will be  country)\n",
    "locations = [l.string for l in location]\n",
    "pofession = soup.find_all(\"span\", class_=\"card__header__strapline__location\")[1::2] # select only even's index (it will be  pofession)\n",
    "pofessions = [l.string for l in pofession]"
   ]
  },
  {
   "cell_type": "code",
   "execution_count": 7,
   "metadata": {},
   "outputs": [],
   "source": [
    "image =  soup.find_all(\"img\", class_='lazy card__portrait')#[i['href'] for i in image]\n",
    "images = [i.get('data-src') for i in image]"
   ]
  },
  {
   "cell_type": "code",
   "execution_count": 37,
   "metadata": {},
   "outputs": [],
   "source": [
    "import re #regex library - regular extention\n",
    "category = soup.find_all(class_=re.compile(\"category--\"))\n",
    "categorys = [c['class'][1].replace('category--','') for c in category]"
   ]
  },
  {
   "cell_type": "code",
   "execution_count": 45,
   "metadata": {},
   "outputs": [],
   "source": [
    "import pandas as pd # pandas library\n",
    "woomen = pd.DataFrame({'names': names,\n",
    "                    'descriptions': descriptions,\n",
    "                    'locations': locations,\n",
    "                    'pofessions': pofessions,\n",
    "                    'images': images,\n",
    "                    'categorys': categorys\n",
    "                   })\n"
   ]
  },
  {
   "cell_type": "code",
   "execution_count": 56,
   "metadata": {},
   "outputs": [],
   "source": [
    "woomen.to_excel('woomen.xlsx',index_label=False, index=False, header=True)"
   ]
  },
  {
   "cell_type": "code",
   "execution_count": null,
   "metadata": {},
   "outputs": [],
   "source": []
  }
 ],
 "metadata": {
  "kernelspec": {
   "display_name": "Python 3",
   "language": "python",
   "name": "python3"
  },
  "language_info": {
   "codemirror_mode": {
    "name": "ipython",
    "version": 3
   },
   "file_extension": ".py",
   "mimetype": "text/x-python",
   "name": "python",
   "nbconvert_exporter": "python",
   "pygments_lexer": "ipython3",
   "version": "3.8.5"
  }
 },
 "nbformat": 4,
 "nbformat_minor": 4
}
